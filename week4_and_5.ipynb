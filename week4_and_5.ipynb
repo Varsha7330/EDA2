{
  "nbformat": 4,
  "nbformat_minor": 0,
  "metadata": {
    "colab": {
      "provenance": [],
      "authorship_tag": "ABX9TyM87QHwVCbGtGlKhtGXp34I",
      "include_colab_link": true
    },
    "kernelspec": {
      "name": "python3",
      "display_name": "Python 3"
    },
    "language_info": {
      "name": "python"
    }
  },
  "cells": [
    {
      "cell_type": "markdown",
      "metadata": {
        "id": "view-in-github",
        "colab_type": "text"
      },
      "source": [
        "<a href=\"https://colab.research.google.com/github/Varsha7330/EDA2/blob/main/week4_and_5.ipynb\" target=\"_parent\"><img src=\"https://colab.research.google.com/assets/colab-badge.svg\" alt=\"Open In Colab\"/></a>"
      ]
    },
    {
      "cell_type": "markdown",
      "source": [
        "**data processing tasks using python libraries**"
      ],
      "metadata": {
        "id": "Pz4harymtbj5"
      }
    },
    {
      "cell_type": "code",
      "source": [
        "import pandas as pd\n",
        "\n",
        "# Sample data\n",
        "data = {\n",
        "    'Position': ['Manager', 'Assistant', 'Senior Manager', 'Intern', 'Executive'],\n",
        "    'Level': [5, 2, 6, 1, 4],\n",
        "    'Experience': [10, 2, 12, 0, 7],\n",
        "    'Salary': [90000, 30000, 110000, 15000, 70000]\n",
        "}\n",
        "\n",
        "# Create DataFrame\n",
        "df = pd.DataFrame(data)\n",
        "\n",
        "# Save to Excel\n",
        "df.to_excel('salary.xlsx', index=False)\n",
        "\n",
        "print(\"File 'salary.xlsx' created successfully!\")\n"
      ],
      "metadata": {
        "colab": {
          "base_uri": "https://localhost:8080/"
        },
        "id": "vilIGQyirEyx",
        "outputId": "3b58de1e-a488-4097-a98b-a9c3e4813157"
      },
      "execution_count": 3,
      "outputs": [
        {
          "output_type": "stream",
          "name": "stdout",
          "text": [
            "File 'salary.xlsx' created successfully!\n"
          ]
        }
      ]
    },
    {
      "cell_type": "code",
      "execution_count": 4,
      "metadata": {
        "colab": {
          "base_uri": "https://localhost:8080/"
        },
        "id": "kT4q6ZeTpfA7",
        "outputId": "1774831f-2ae6-49be-8b06-fa58c5ed35af"
      },
      "outputs": [
        {
          "output_type": "stream",
          "name": "stdout",
          "text": [
            "[[0. 0. 0. 1. 0.]\n",
            " [1. 0. 0. 0. 0.]\n",
            " [0. 0. 0. 0. 1.]\n",
            " [0. 0. 1. 0. 0.]\n",
            " [0. 1. 0. 0. 0.]]\n",
            "[[0. 0. 0. 1. 0.]\n",
            " [0. 1. 0. 0. 0.]\n",
            " [0. 0. 0. 0. 1.]\n",
            " [1. 0. 0. 0. 0.]\n",
            " [0. 0. 1. 0. 0.]]\n"
          ]
        }
      ],
      "source": [
        "import pandas as pd\n",
        "dataset= pd.read_excel('salary.xlsx')\n",
        "x=dataset.iloc[:,[0]].values\n",
        "y=dataset.iloc[:,[3]].values\n",
        "from sklearn.preprocessing import LabelEncoder, OneHotEncoder\n",
        "onehotencoder = OneHotEncoder()\n",
        "ohe_x = onehotencoder.fit_transform(x)\n",
        "ohe_y = onehotencoder.fit_transform(y)\n",
        "x=ohe_x.toarray()\n",
        "y=ohe_y.toarray()\n",
        "print(x)\n",
        "print(y)"
      ]
    },
    {
      "cell_type": "markdown",
      "source": [
        "**Pearson's Correlation**"
      ],
      "metadata": {
        "id": "d19ZWyzMs6iM"
      }
    },
    {
      "cell_type": "markdown",
      "source": [],
      "metadata": {
        "id": "jSduqv2Ksqdg"
      }
    },
    {
      "cell_type": "code",
      "source": [
        "import numpy as np\n",
        "import matplotlib.pyplot as plt\n",
        "import pandas as pd\n",
        "x_simple=np.array([-2, -2, 0, 1, 2])\n",
        "y_simple=np.array([4, 1, 3, 2, 0])\n",
        "my_rho = np.corrcoef(x_simple, y_simple)\n",
        "print(my_rho)"
      ],
      "metadata": {
        "colab": {
          "base_uri": "https://localhost:8080/"
        },
        "id": "kjAgWpcbsAD7",
        "outputId": "c514ead9-0da4-40f4-b0a9-b36ebc2ef3fb"
      },
      "execution_count": 5,
      "outputs": [
        {
          "output_type": "stream",
          "name": "stdout",
          "text": [
            "[[ 1.         -0.53033009]\n",
            " [-0.53033009  1.        ]]\n"
          ]
        }
      ]
    },
    {
      "cell_type": "markdown",
      "source": [
        "**Cosine Similarity**"
      ],
      "metadata": {
        "id": "tYjbruFVtBjT"
      }
    },
    {
      "cell_type": "code",
      "source": [
        "import numpy as np\n",
        "from numpy.linalg import norm\n",
        "a=np.array([2, 1, 2, 3, 2, 9])\n",
        "b=np.array([3, 4, 2, 4, 5, 5])\n",
        "cosine=np.dot(a,b)/(norm(a)*norm(b))\n",
        "print(\"cosine similarity : \", cosine)"
      ],
      "metadata": {
        "colab": {
          "base_uri": "https://localhost:8080/"
        },
        "id": "FPUx9u71smoM",
        "outputId": "3f015a50-d3df-4e36-a69e-75f26a7a0bb6"
      },
      "execution_count": 8,
      "outputs": [
        {
          "output_type": "stream",
          "name": "stdout",
          "text": [
            "cosine similarity :  0.8188504723485274\n"
          ]
        }
      ]
    },
    {
      "cell_type": "markdown",
      "source": [
        "**Jaccard Similarity**"
      ],
      "metadata": {
        "id": "aqNKr0h2uZAh"
      }
    },
    {
      "cell_type": "code",
      "source": [
        "def jaccard_similarity(list1, list2):\n",
        "    s1= set(list1)\n",
        "    s2= set(list2)\n",
        "    return float(len(s1.intersection(s2)) / len(s1.union(s2)))\n",
        "list1= ['dog', 'cat', 'cat', 'rat']\n",
        "list2= ['dog', 'cat', 'mouse']\n",
        "print(jaccard_similarity(list1, list2))"
      ],
      "metadata": {
        "colab": {
          "base_uri": "https://localhost:8080/"
        },
        "id": "OzfObp2-usXh",
        "outputId": "a6e9800d-9649-4ab9-fa41-268f3cd56ec9"
      },
      "execution_count": 9,
      "outputs": [
        {
          "output_type": "stream",
          "name": "stdout",
          "text": [
            "0.5\n"
          ]
        }
      ]
    },
    {
      "cell_type": "markdown",
      "source": [
        "**Euclidean Distance**"
      ],
      "metadata": {
        "id": "bRksBF-yvVIb"
      }
    },
    {
      "cell_type": "code",
      "source": [
        "import numpy as np\n",
        "point1 = np.array((1, 2, 3))\n",
        "point2 = np.array((1, 1, 1))\n",
        "sum_sq = np.sum(np.square(point1 - point2))\n",
        "print(np.sqrt(sum_sq))"
      ],
      "metadata": {
        "colab": {
          "base_uri": "https://localhost:8080/"
        },
        "id": "fW3rtQSlvb4Z",
        "outputId": "52524972-29c3-4f2e-d470-bc5225386fb8"
      },
      "execution_count": 15,
      "outputs": [
        {
          "output_type": "stream",
          "name": "stdout",
          "text": [
            "2.23606797749979\n"
          ]
        }
      ]
    },
    {
      "cell_type": "markdown",
      "source": [
        "**Manhattan Distance**"
      ],
      "metadata": {
        "id": "t76JWKIcwyIm"
      }
    },
    {
      "cell_type": "code",
      "source": [
        "from scipy.spatial import distance\n",
        "a= (1, 0, 2, 3)\n",
        "b= (4, 4, 3, 1)\n",
        "d=distance.cityblock(a , b)\n",
        "print(d)"
      ],
      "metadata": {
        "colab": {
          "base_uri": "https://localhost:8080/"
        },
        "id": "DLwb6agnw3Td",
        "outputId": "9e3bba97-d5cd-46aa-f321-79d57adbea95"
      },
      "execution_count": 19,
      "outputs": [
        {
          "output_type": "stream",
          "name": "stdout",
          "text": [
            "10\n"
          ]
        }
      ]
    }
  ]
}